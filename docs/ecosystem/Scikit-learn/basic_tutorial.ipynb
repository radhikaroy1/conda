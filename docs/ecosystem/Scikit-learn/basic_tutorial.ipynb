{
  "cells": [
    {
      "cell_type": "code",
      "source": [
        "import kagglehub\n",
        "\n",
        "# Download latest version\n",
        "path = kagglehub.dataset_download(\"atharvasoundankar/global-cybersecurity-threats-2015-2024\")\n",
        "\n",
        "print(\"Path to dataset files:\", path)"
      ],
      "metadata": {
        "outputId": "f10afbd7-6c33-44e9-a893-a23855564f63",
        "colab": {
          "base_uri": "https://localhost:8080/"
        },
        "id": "j_AfGzcyDDI_"
      },
      "execution_count": null,
      "outputs": [
        {
          "output_type": "stream",
          "name": "stdout",
          "text": [
            "Downloading from https://www.kaggle.com/api/v1/datasets/download/atharvasoundankar/global-cybersecurity-threats-2015-2024?dataset_version_number=1...\n"
          ]
        },
        {
          "output_type": "stream",
          "name": "stderr",
          "text": [
            "100%|██████████| 47.0k/47.0k [00:00<00:00, 38.4MB/s]"
          ]
        },
        {
          "output_type": "stream",
          "name": "stdout",
          "text": [
            "Extracting files...\n",
            "Path to dataset files: /root/.cache/kagglehub/datasets/atharvasoundankar/global-cybersecurity-threats-2015-2024/versions/1\n"
          ]
        },
        {
          "output_type": "stream",
          "name": "stderr",
          "text": [
            "\n"
          ]
        }
      ]
    },
    {
      "cell_type": "code",
      "source": [],
      "metadata": {
        "id": "uhFjp9on7FWF"
      },
      "execution_count": null,
      "outputs": []
    },
    {
      "cell_type": "code",
      "source": [
        "import kagglehub\n",
        "\n",
        "# Download latest version\n",
        "path = kagglehub.dataset_download(\"atharvasoundankar/global-cybersecurity-threats-2015-2024\")\n",
        "\n",
        "print(\"Path to dataset files:\", path)"
      ],
      "metadata": {
        "colab": {
          "base_uri": "https://localhost:8080/"
        },
        "id": "jarTj_Y9_HFU",
        "outputId": "f10afbd7-6c33-44e9-a893-a23855564f63"
      },
      "execution_count": 16,
      "outputs": [
        {
          "output_type": "stream",
          "name": "stdout",
          "text": [
            "Downloading from https://www.kaggle.com/api/v1/datasets/download/atharvasoundankar/global-cybersecurity-threats-2015-2024?dataset_version_number=1...\n"
          ]
        },
        {
          "output_type": "stream",
          "name": "stderr",
          "text": [
            "100%|██████████| 47.0k/47.0k [00:00<00:00, 38.4MB/s]"
          ]
        },
        {
          "output_type": "stream",
          "name": "stdout",
          "text": [
            "Extracting files...\n",
            "Path to dataset files: /root/.cache/kagglehub/datasets/atharvasoundankar/global-cybersecurity-threats-2015-2024/versions/1\n"
          ]
        },
        {
          "output_type": "stream",
          "name": "stderr",
          "text": [
            "\n"
          ]
        }
      ]
    },
    {
      "cell_type": "code",
      "execution_count": 15,
      "metadata": {
        "id": "RlT4R--P6-ir",
        "outputId": "9119b421-45a9-45fe-abae-a61e3b574606",
        "colab": {
          "base_uri": "https://localhost:8080/"
        }
      },
      "outputs": [
        {
          "output_type": "execute_result",
          "data": {
            "text/plain": [
              "OpenML Classification Task\n",
              "==========================\n",
              "Task Type Description: https://test.openml.org/tt/TaskType.SUPERVISED_CLASSIFICATION\n",
              "Task ID..............: 32\n",
              "Task URL.............: https://test.openml.org/t/32\n",
              "Estimation Procedure.: crossvalidation\n",
              "Target Feature.......: class\n",
              "# of Classes.........: 10\n",
              "Cost Matrix..........: Available"
            ]
          },
          "metadata": {},
          "execution_count": 15
        }
      ],
      "source": [
        "\n",
        "# Download the OpenML task for the pendigits dataset with 10-fold\n",
        "# cross-validation.\n",
        "task = openml.tasks.get_task(32)\n",
        "task"
      ]
    },
    {
      "cell_type": "code",
      "source": [
        "# Download a single file.\n",
        "kagglehub.dataset_download('bricevergnou/spotify-recommendation', path='data.csv')"
      ],
      "metadata": {
        "id": "rut0rUIwAeEa",
        "outputId": "bf1cc003-95cc-497a-e93e-57c610b3be1c",
        "colab": {
          "base_uri": "https://localhost:8080/",
          "height": 94
        }
      },
      "execution_count": 17,
      "outputs": [
        {
          "output_type": "stream",
          "name": "stdout",
          "text": [
            "Downloading from https://www.kaggle.com/api/v1/datasets/download/bricevergnou/spotify-recommendation?dataset_version_number=2&file_name=data.csv...\n"
          ]
        },
        {
          "output_type": "stream",
          "name": "stderr",
          "text": [
            "100%|██████████| 14.0k/14.0k [00:00<00:00, 14.5MB/s]\n"
          ]
        },
        {
          "output_type": "execute_result",
          "data": {
            "text/plain": [
              "'/root/.cache/kagglehub/datasets/bricevergnou/spotify-recommendation/versions/2/data.csv'"
            ],
            "application/vnd.google.colaboratory.intrinsic+json": {
              "type": "string"
            }
          },
          "metadata": {},
          "execution_count": 17
        }
      ]
    },
    {
      "cell_type": "code",
      "source": [
        "url = https://www.kaggle.com/api/v1/datasets/download/bricevergnou/spotify-recommendation?dataset_version_number=2&file_name=data.csv..."
      ],
      "metadata": {
        "id": "cCS24PquFhkE"
      },
      "execution_count": null,
      "outputs": []
    },
    {
      "cell_type": "code",
      "source": [
        "import urllib.request\n",
        "\n",
        "# url = 'URL_OF_YOUR_DATASET'  # Replace with the actual URL\n",
        "# filename = 'dataset.csv'  # Choose a filename\n",
        "uri = https://www.kaggle.com/api/v1/datasets/download/atharvasoundankar/global-cybersecurity-threats-2015-2024?dataset_version_number=1...\n",
        "urllib.request.urlretrieve(url, 'data.csv')"
      ],
      "metadata": {
        "id": "0ndbhbQb80d2"
      },
      "execution_count": null,
      "outputs": []
    },
    {
      "cell_type": "code",
      "source": [],
      "metadata": {
        "id": "SY4xq_mhH370"
      },
      "execution_count": null,
      "outputs": []
    }
  ],
  "metadata": {
    "kernelspec": {
      "display_name": "openml",
      "language": "python",
      "name": "python3"
    },
    "language_info": {
      "codemirror_mode": {
        "name": "ipython",
        "version": 3
      },
      "file_extension": ".py",
      "mimetype": "text/x-python",
      "name": "python",
      "nbconvert_exporter": "python",
      "pygments_lexer": "ipython3",
      "version": "3.9.19"
    },
    "colab": {
      "provenance": []
    }
  },
  "nbformat": 4,
  "nbformat_minor": 0
}